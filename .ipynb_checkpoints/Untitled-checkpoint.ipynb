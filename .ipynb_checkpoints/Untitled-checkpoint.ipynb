{
 "cells": [
  {
   "cell_type": "code",
   "execution_count": 29,
   "id": "c3f76b01",
   "metadata": {},
   "outputs": [
    {
     "name": "stdout",
     "output_type": "stream",
     "text": [
      "  State   County    FIPS  Opioid Dispensing Rate per 100     NAME   INTPTLAT  \\\n",
      "0    AL  AUTAUGA  1001.0                            98.3  Autauga  32.532237   \n",
      "1    AL  BALDWIN  1003.0                            65.0  Baldwin  30.659218   \n",
      "2    AL  BARBOUR  1005.0                            22.8  Barbour  31.870253   \n",
      "3    AL     BIBB  1007.0                            24.8     Bibb  33.015893   \n",
      "4    AL   BLOUNT  1009.0                            22.8   Blount  33.977357   \n",
      "\n",
      "    INTPTLON  \n",
      "0 -86.646439  \n",
      "1 -87.746067  \n",
      "2 -85.405103  \n",
      "3 -87.127148  \n",
      "4 -86.566440  \n"
     ]
    }
   ],
   "source": [
    "import pandas as pd\n",
    "\n",
    "\n",
    "dfs = {}\n",
    "\n",
    "df = pd.read_excel('datasets/cdc_disp_rates.xlsx')\n",
    "dfs['disp_rates'] = df\n",
    "df = pd.read_excel('datasets/county_coords.xlsx')\n",
    "dfs['coords'] = df\n",
    "\n",
    "dfs['coords'] = dfs['coords'].sort_values('FIPS')\n",
    "dfs['disp_rates'] = dfs['disp_rates'].sort_values('FIPS')\n",
    "\n",
    "#attempting to merge the data\n",
    "merged_data = pd.merge(dfs['disp_rates'], dfs['coords'], on='FIPS')\n",
    "\n",
    "print(merged_data.head())"
   ]
  },
  {
   "cell_type": "code",
   "execution_count": null,
   "id": "d199b136",
   "metadata": {},
   "outputs": [],
   "source": []
  }
 ],
 "metadata": {
  "kernelspec": {
   "display_name": "Python 3 (ipykernel)",
   "language": "python",
   "name": "python3"
  },
  "language_info": {
   "codemirror_mode": {
    "name": "ipython",
    "version": 3
   },
   "file_extension": ".py",
   "mimetype": "text/x-python",
   "name": "python",
   "nbconvert_exporter": "python",
   "pygments_lexer": "ipython3",
   "version": "3.9.13"
  }
 },
 "nbformat": 4,
 "nbformat_minor": 5
}
