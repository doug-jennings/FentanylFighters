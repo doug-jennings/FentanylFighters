{
 "cells": [
  {
   "cell_type": "markdown",
   "id": "ac9acf23",
   "metadata": {},
   "source": [
    "Preprocess death data by estimating suppressed values"
   ]
  },
  {
   "cell_type": "code",
   "execution_count": 10,
   "id": "1575ef4d",
   "metadata": {},
   "outputs": [],
   "source": [
    "import pandas as pd\n",
    "\n",
    "# Read the dataset\n",
    "data = pd.read_excel('total_deaths.xlsx', engine='openpyxl')\n",
    "\n",
    "# Extract the row containing total values\n",
    "total_values = data.iloc[-1]\n",
    "\n",
    "# Remove the rows containing total values\n",
    "data_without_totals = data[:-1]\n",
    "\n",
    "# Melt the dataset to have a Year column\n",
    "data_without_totals = pd.melt(data_without_totals, id_vars=['Notes', 'County', 'County Code'], var_name='Year', value_name='Deaths')\n",
    "\n",
    "# Count suppressed values\n",
    "suppressed_counts = data_without_totals.groupby('Year').apply(lambda x: (x['Deaths'] == 'Suppressed').sum())\n",
    "\n",
    "# Replace suppressed values with NaN\n",
    "data_without_totals.replace('Suppressed', pd.NA, inplace=True)\n",
    "\n",
    "# Convert Deaths column to numeric data type\n",
    "data_without_totals['Deaths'] = data_without_totals['Deaths'].apply(pd.to_numeric)\n",
    "\n",
    "# Group by year and sum non-suppressed values for each year\n",
    "non_suppressed_totals = data_without_totals.groupby('Year')['Deaths'].sum()\n",
    "\n",
    "# Calculate the suppressed totals\n",
    "suppressed_totals = total_values[3:] - non_suppressed_totals\n",
    "\n",
    "# Replace suppressed values with suppressed_totals divided by the number of suppressed values\n",
    "replacement_values = suppressed_totals / suppressed_counts\n",
    "replacement_values = replacement_values.reset_index()\n",
    "\n",
    "def replace_suppressed(row, replacement_df):\n",
    "    year = row['Year']\n",
    "    if pd.isna(row['Deaths']):\n",
    "        replacement_value = replacement_df.loc[(replacement_df['index'] == year), 0].iloc[0]\n",
    "        row['Deaths'] = replacement_value\n",
    "    return row\n",
    "\n",
    "data_without_suppressed = data_without_totals.apply(lambda x: replace_suppressed(x, replacement_values), axis=1)\n",
    "data_without_totals['Deaths'] = data_without_suppressed['Deaths']\n",
    "\n",
    "# Pivot the dataset back to the original format\n",
    "data_without_totals = data_without_totals.pivot(index=['Notes', 'County', 'County Code'], columns='Year', values='Deaths').reset_index()\n",
    "\n",
    "# Save the resulting dataset to a new xlsx file\n",
    "with pd.ExcelWriter('total_deaths_preprocessed.xlsx', engine='openpyxl') as writer:\n",
    "    data_without_totals.to_excel(writer, index=False)\n"
   ]
  },
  {
   "cell_type": "markdown",
   "id": "a2d6a9f3",
   "metadata": {},
   "source": [
    "Remove rows for US total and for states from unemployment data"
   ]
  },
  {
   "cell_type": "code",
   "execution_count": 25,
   "id": "e7e66640",
   "metadata": {},
   "outputs": [
    {
     "name": "stdout",
     "output_type": "stream",
     "text": [
      "Filtered data saved to employment.xlsx\n"
     ]
    }
   ],
   "source": [
    "import pandas as pd\n",
    "\n",
    "# Load the xlsx file into a pandas dataframe\n",
    "df = pd.read_excel('unemployment-med-hh-inc.xlsx')\n",
    "\n",
    "# Filter the dataframe to keep only rows where the value in the Area_name column does not contain a comma\n",
    "df = df[df['Area_name'].str.contains(',')]\n",
    "\n",
    "# Generate a filename for the output file\n",
    "output_filename = 'employment.xlsx'\n",
    "\n",
    "# Save the filtered dataframe to a new xlsx file\n",
    "df.to_excel(output_filename, index=False)\n",
    "\n",
    "print('Filtered data saved to {filename}'.format(filename=output_filename))\n"
   ]
  }
 ],
 "metadata": {
  "kernelspec": {
   "display_name": "Python 3 (ipykernel)",
   "language": "python",
   "name": "python3"
  },
  "language_info": {
   "codemirror_mode": {
    "name": "ipython",
    "version": 3
   },
   "file_extension": ".py",
   "mimetype": "text/x-python",
   "name": "python",
   "nbconvert_exporter": "python",
   "pygments_lexer": "ipython3",
   "version": "3.9.13"
  }
 },
 "nbformat": 4,
 "nbformat_minor": 5
}
