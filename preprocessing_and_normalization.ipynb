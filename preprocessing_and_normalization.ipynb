{
 "cells": [
  {
   "cell_type": "markdown",
   "id": "bbdb20bb",
   "metadata": {},
   "source": [
    "Yearly opioid overdoses per county were gathered from https://wonder.cdc.gov/mcd-icd10.html.\n",
    "To replace suppressed values with an estimate, yearly_death_totals was compiled from the same source.\n",
    "The cell below creates a new column for each year rather than leaving 'year' as a single column \n",
    "and replaces suppressed values (values less than 10) with \n",
    "(yearly_death_totals - unsuppressed_vals)/num_suppressed_entries) for each year.\n"
   ]
  },
  {
   "cell_type": "code",
   "execution_count": 1,
   "id": "8f81a277",
   "metadata": {},
   "outputs": [],
   "source": [
    "import pandas as pd\n",
    "import numpy as np\n",
    "\n",
    "# Read the data from the files\n",
    "data = pd.read_excel(\"all_deaths.xlsx\")\n",
    "yearly_death_totals_data = pd.read_excel(\"yearly_death_totals.xlsx\")\n",
    "\n",
    "# Pivot the data using the pivot_table function\n",
    "pivoted_data = data.pivot_table(index=['County', 'FIPS'],\n",
    "                                columns='Year',\n",
    "                                values=['Deaths', 'Population'],\n",
    "                                aggfunc='first').reset_index()\n",
    "\n",
    "# Flatten the column names\n",
    "pivoted_data.columns.name = None\n",
    "pivoted_data.columns = [f'{col[0]}_{col[1]}' if col[1] else col[0] for col in pivoted_data.columns]\n",
    "\n",
    "# Calculate suppressed values\n",
    "for year in range(2010, 2021):\n",
    "    yearly_death_totals = yearly_death_totals_data[year].iloc[0]\n",
    "    unsuppressed_deaths = pivoted_data.loc[pivoted_data[f'Deaths_{year}'] != 'Suppressed', f'Deaths_{year}'].astype(int).sum()\n",
    "    num_suppressed_entries = (pivoted_data[f'Deaths_{year}'] == 'Suppressed').sum()\n",
    "    \n",
    "    if num_suppressed_entries > 0:\n",
    "        suppressed_value = (yearly_death_totals - unsuppressed_deaths) / num_suppressed_entries\n",
    "    else:\n",
    "        suppressed_value = 0\n",
    "        \n",
    "    # Replace 'Suppressed' values with the calculated suppressed_value\n",
    "    pivoted_data.loc[pivoted_data[f'Deaths_{year}'] == 'Suppressed', f'Deaths_{year}'] = suppressed_value\n",
    "\n",
    "# Export the updated pivoted data to a new Excel file\n",
    "pivoted_data.to_excel(\"yearly_deaths.xlsx\", index=False)\n"
   ]
  },
  {
   "cell_type": "markdown",
   "id": "e0887472",
   "metadata": {},
   "source": [
    "We found that the death rate is correlated with the white population, so we will use the white proportion of county populations as a feature.\n",
    "https://wonder.cdc.gov/single-race-population.HTML"
   ]
  },
  {
   "cell_type": "code",
   "execution_count": 2,
   "id": "cabaf6f1",
   "metadata": {
    "scrolled": true
   },
   "outputs": [],
   "source": [
    "import pandas as pd\n",
    "import numpy as np\n",
    "\n",
    "# Read the white_population data from the file\n",
    "white_population_data = pd.read_excel(\"white_population.xlsx\")\n",
    "\n",
    "# Drop rows where Notes column has 'total'\n",
    "white_population_data = white_population_data[~white_population_data['Notes'].str.contains('total', case=False, na=False)]\n",
    "\n",
    "# Drop the Notes column\n",
    "white_population_data.drop('Notes', axis=1, inplace=True)\n",
    "\n",
    "# Pivot the data using the pivot_table function\n",
    "pivoted_white_population = white_population_data.pivot_table(index=['County', 'FIPS'],\n",
    "                                                              columns='Year',\n",
    "                                                              values='Population',\n",
    "                                                              aggfunc='first').reset_index()\n",
    "\n",
    "# Flatten the column names\n",
    "pivoted_white_population.columns.name = None\n",
    "pivoted_white_population.columns = [f'{col[0]}_{col[1]}' if isinstance(col, tuple) else col for col in pivoted_white_population.columns]\n",
    "\n",
    "# Export the pivoted data\n",
    "pivoted_white_population.to_excel(\"yearly_white_population.xlsx\", index=False)\n"
   ]
  },
  {
   "cell_type": "code",
   "execution_count": 3,
   "id": "46fc7996",
   "metadata": {
    "scrolled": false
   },
   "outputs": [],
   "source": [
    "import pandas as pd\n",
    "\n",
    "# Read the yearly_deaths and yearly_white_population data from the files\n",
    "yearly_deaths = pd.read_excel(\"yearly_deaths.xlsx\")\n",
    "yearly_white_population = pd.read_excel(\"yearly_white_population.xlsx\")\n",
    "\n",
    "# Rename the columns in the yearly_white_population DataFrame\n",
    "yearly_white_population.columns = [\n",
    "    f\"Population_{col}_white\" if isinstance(col, int) else col for col in yearly_white_population.columns\n",
    "]\n",
    "\n",
    "# Merge the DataFrames on the ['County', 'FIPS'] columns\n",
    "merged_data = yearly_deaths.merge(yearly_white_population, on=['County', 'FIPS'])\n",
    "\n",
    "# Replace any zero values in Population_2013 with values from Population_2014\n",
    "# merged_data.loc[merged_data['Population_2013'] == 0, 'Population_2013'] = merged_data.loc[merged_data['Population_2013'] == 0, 'Population_2014']\n",
    "\n",
    "# Calculate the proportion of the white population for each year and create new columns\n",
    "for year in range(2010, 2021):\n",
    "    merged_data[f'Proportion_White_{year}'] = merged_data[f'Population_{year}_white'] / merged_data[f'Population_{year}']\n",
    "\n",
    "# Export the updated merged_data DataFrame\n",
    "merged_data.to_excel(\"merged.xlsx\", index=False)\n"
   ]
  },
  {
   "cell_type": "markdown",
   "id": "243a12e2",
   "metadata": {},
   "source": [
    "Unemployment and median household income for the U.S., States, and counties, 2010-2021\t\t\t\t\t\t\t\t\t\t\t\t\t\t\t\t\t\t\t\t\t\t\t\t\t\t\t\t\t\t\t\t\t\t\t\t\t\t\t\t\t\t\t\t\t\t\t\t\t\t\t\t\n",
    "Sources: Unemployment: U.S. Department of Labor, Bureau of Labor Statistics, Local Area Unemployment Statistics (LAUS); median household income: U.S. Department of Commerce, Bureau of the Census, Small Area Income and Poverty Estimates (SAIPE) Program.\t\t\t\t\t\t\t\t\t\t\t\t\t\t\t\t\t\t\t\t\t\t\t\t\t\t\t\t\t\t\t\t\t\t\t\t\t\t\t\t\t\t\t\t\t\t\t\t\t\t\t\t\n",
    "For definitions of rural classifications, see the USDA, Economic Research Service webpage \"Rural Classifications\" in the \"Rural Economy & Population\" topic. Note that counties not existing when rural classifications were determined will not have values for those fields. Variable descriptions (column names) are found in the second tab in this workbook.\t\t\t\t\t\t\t\t\t\t\t\t\t\t\t\t\t\t\t\t\t\t\t\t\t\t\t\t\t\t\t\t\t\t\t\t\t\t\t\t\t\t\t\t\t\t\t\t\t\t\t\t\n",
    "This table was prepared by USDA, Economic Research Service. Data as of June 3, 2022. Contact: Austin Sanders, austin.sanders@usda.gov\t\t\t\n",
    "\n",
    "Remove rows for US total and for states from unemployment data"
   ]
  },
  {
   "cell_type": "code",
   "execution_count": 4,
   "id": "7d5d4a9f",
   "metadata": {},
   "outputs": [],
   "source": [
    "import pandas as pd\n",
    "\n",
    "# Load the xlsx file into a pandas dataframe\n",
    "df = pd.read_excel('unemployment-med-hh-inc.xlsx')\n",
    "\n",
    "# Filter the dataframe to keep only rows where the value in the Area_name column does not contain a comma\n",
    "df = df[df['Area_name'].str.contains(',')]\n",
    "\n",
    "# Drop the State and Area_name columns\n",
    "df.drop(['State', 'Area_name'], axis=1, inplace=True)\n",
    "\n",
    "# Generate a filename for the output file\n",
    "output_filename = 'employment.xlsx'\n",
    "\n",
    "# Save the filtered dataframe to a new xlsx file\n",
    "df.to_excel(output_filename, index=False)"
   ]
  },
  {
   "cell_type": "markdown",
   "id": "e4ac48ed",
   "metadata": {},
   "source": [
    "Next we will merge the data with employment data"
   ]
  },
  {
   "cell_type": "code",
   "execution_count": 5,
   "id": "d8d35a7f",
   "metadata": {},
   "outputs": [],
   "source": [
    "import pandas as pd\n",
    "\n",
    "# Load the employment data\n",
    "employment_data = pd.read_excel('employment.xlsx')\n",
    "\n",
    "# Load the merged data\n",
    "merged_data = pd.read_excel('merged.xlsx')\n",
    "\n",
    "# Merge the merged_data and employment_data DataFrames on the 'FIPS' column\n",
    "merged_data = merged_data.merge(employment_data, on='FIPS')\n",
    "\n",
    "# Export the data \n",
    "merged_data.to_excel(\"data.xlsx\", index=False)\n"
   ]
  },
  {
   "cell_type": "markdown",
   "id": "78a80549",
   "metadata": {},
   "source": [
    "now to clean some problematic values from proportion_white_2013 and normalize the data"
   ]
  },
  {
   "cell_type": "code",
   "execution_count": 6,
   "id": "78b16bce",
   "metadata": {
    "scrolled": true
   },
   "outputs": [],
   "source": [
    "import pandas as pd\n",
    "import numpy as np\n",
    "\n",
    "# Load the data\n",
    "data = pd.read_excel('data.xlsx')\n",
    "\n",
    "# Loop through years 2010-2020 and clip the corresponding columns\n",
    "for year in range(2010, 2021):\n",
    "    col_name = f\"Proportion_White_{year}\"\n",
    "    if col_name in data.columns:\n",
    "        data[col_name] = data[col_name].clip(upper=1)\n",
    "\n",
    "# Save the cleaned data\n",
    "data.to_excel(\"cleaned_data.xlsx\", index=False)\n"
   ]
  },
  {
   "cell_type": "code",
   "execution_count": 7,
   "id": "a79c4a3a",
   "metadata": {
    "scrolled": false
   },
   "outputs": [],
   "source": [
    "import pandas as pd\n",
    "from sklearn.preprocessing import StandardScaler\n",
    "\n",
    "# Load the data\n",
    "data = pd.read_excel('cleaned_data.xlsx')\n",
    "\n",
    "# Identify the columns to normalize, excluding 'FIPS'\n",
    "columns_to_normalize = [col for col in data.columns if col not in ['County', 'FIPS']]\n",
    "\n",
    "# Apply Standard Scaling to the selected columns\n",
    "scaler = StandardScaler()\n",
    "normalized_values = scaler.fit_transform(data[columns_to_normalize])\n",
    "\n",
    "# Replace the original columns with the normalized values\n",
    "normalized_data = data.copy()\n",
    "normalized_data[columns_to_normalize] = normalized_values\n",
    "\n",
    "# Export the normalized data to an Excel file\n",
    "normalized_data.to_excel(\"normalized_data.xlsx\", index=False)\n"
   ]
  }
 ],
 "metadata": {
  "kernelspec": {
   "display_name": "Python 3 (ipykernel)",
   "language": "python",
   "name": "python3"
  },
  "language_info": {
   "codemirror_mode": {
    "name": "ipython",
    "version": 3
   },
   "file_extension": ".py",
   "mimetype": "text/x-python",
   "name": "python",
   "nbconvert_exporter": "python",
   "pygments_lexer": "ipython3",
   "version": "3.9.13"
  }
 },
 "nbformat": 4,
 "nbformat_minor": 5
}
